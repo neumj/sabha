{
 "cells": [
  {
   "cell_type": "code",
   "execution_count": 2,
   "metadata": {},
   "outputs": [],
   "source": [
    "import importlib\n",
    "from sabha import execution as ex\n",
    "from sabha import fileio as io"
   ]
  },
  {
   "cell_type": "code",
   "execution_count": 4,
   "metadata": {},
   "outputs": [
    {
     "data": {
      "text/plain": [
       "<module 'sabha.fileio' from '/Users/mjn/Documents/code/sabha/sabha/fileio.py'>"
      ]
     },
     "execution_count": 4,
     "metadata": {},
     "output_type": "execute_result"
    }
   ],
   "source": [
    "importlib.reload(io)"
   ]
  },
  {
   "cell_type": "code",
   "execution_count": 15,
   "metadata": {},
   "outputs": [],
   "source": [
    "options = io.read_json('../data/standard.json')"
   ]
  },
  {
   "cell_type": "code",
   "execution_count": 17,
   "metadata": {},
   "outputs": [
    {
     "data": {
      "text/plain": [
       "{'ModelType': 1,\n",
       " 'SngPathOpt': 0,\n",
       " 'CstOpt': 1,\n",
       " 'Costs': [{'Filename': '../data/srtm_39_08.asc', 'type': 2}],\n",
       " 'weights': [1.0],\n",
       " 'typeLinearSlopeTransform': 1,\n",
       " 'defaultSlopeValues': 2,\n",
       " 'NetOpt': 2,\n",
       " 'typeWidth': 200.0,\n",
       " 'typeHeight': 200.0,\n",
       " 'type': 2,\n",
       " 'GeoLim': 1,\n",
       " 'xlow': 11.0,\n",
       " 'ylow': 22.0,\n",
       " 'xhigh': 13.25,\n",
       " 'yhigh': 23.5,\n",
       " 'StEnPts': 3,\n",
       " 'StartPoints': {'1': {'lat': 22.75, 'lon': 12.5}},\n",
       " 'EndPoints': {'1': {'lat': 22.75, 'lon': 11.75}},\n",
       " 'PrCnt': 0.1,\n",
       " 'NumRuns': 10.0}"
      ]
     },
     "execution_count": 17,
     "metadata": {},
     "output_type": "execute_result"
    }
   ],
   "source": [
    "options"
   ]
  },
  {
   "cell_type": "code",
   "execution_count": 19,
   "metadata": {},
   "outputs": [],
   "source": [
    "n,l = ex.makeRegularNetworkMatrix(options['typeWidth'], options['typeHeight'], options['NetOpt'],\n",
    "                                                                options['xlow'], options['ylow'],\n",
    "                                                                options['xhigh'], options['yhigh'])"
   ]
  },
  {
   "cell_type": "code",
   "execution_count": 21,
   "metadata": {},
   "outputs": [
    {
     "data": {
      "text/plain": [
       "array([[1.00000e+00, 1.00000e+00, 2.01000e+02, 1.00000e+00],\n",
       "       [2.00000e+00, 2.00000e+00, 2.02000e+02, 1.00000e+00],\n",
       "       [3.00000e+00, 3.00000e+00, 2.03000e+02, 1.00000e+00],\n",
       "       ...,\n",
       "       [3.17602e+05, 3.99970e+04, 3.97980e+04, 1.00000e+00],\n",
       "       [3.17603e+05, 3.99980e+04, 3.97990e+04, 1.00000e+00],\n",
       "       [3.17604e+05, 3.99990e+04, 3.98000e+04, 1.00000e+00]])"
      ]
     },
     "execution_count": 21,
     "metadata": {},
     "output_type": "execute_result"
    }
   ],
   "source": []
  },
  {
   "cell_type": "code",
   "execution_count": null,
   "metadata": {},
   "outputs": [],
   "source": []
  }
 ],
 "metadata": {
  "kernelspec": {
   "display_name": "Python 3",
   "language": "python",
   "name": "python3"
  },
  "language_info": {
   "codemirror_mode": {
    "name": "ipython",
    "version": 3
   },
   "file_extension": ".py",
   "mimetype": "text/x-python",
   "name": "python",
   "nbconvert_exporter": "python",
   "pygments_lexer": "ipython3",
   "version": "3.7.7"
  }
 },
 "nbformat": 4,
 "nbformat_minor": 4
}
