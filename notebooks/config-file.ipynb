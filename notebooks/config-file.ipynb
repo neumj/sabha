{
 "cells": [
  {
   "cell_type": "code",
   "execution_count": 4,
   "metadata": {},
   "outputs": [],
   "source": [
    "#start: 12.5E, 22.75N\n",
    "#end: 11.75E, 22.75N\n",
    "#network bounds\n",
    "#11.0,13.25\n",
    "#22.0,23.50"
   ]
  },
  {
   "cell_type": "code",
   "execution_count": 11,
   "metadata": {},
   "outputs": [],
   "source": [
    "from sabha import setup as su\n",
    "from sabha import fileio as io\n",
    "import importlib"
   ]
  },
  {
   "cell_type": "code",
   "execution_count": 12,
   "metadata": {},
   "outputs": [
    {
     "data": {
      "text/plain": [
       "<module 'sabha.fileio' from '/Users/mjn/Documents/code/sabha/sabha/fileio.py'>"
      ]
     },
     "execution_count": 12,
     "metadata": {},
     "output_type": "execute_result"
    }
   ],
   "source": [
    "importlib.reload(su)\n",
    "importlib.reload(io)"
   ]
  },
  {
   "cell_type": "code",
   "execution_count": 7,
   "metadata": {},
   "outputs": [
    {
     "name": "stdout",
     "output_type": "stream",
     "text": [
      " \n",
      "%%%%%%%%%%%%%%%%%%%%%%%%%%%\n",
      "%%    Mobility Model.    %%\n",
      "%%%%%%%%%%%%%%%%%%%%%%%%%%%\n",
      " \n",
      " \n",
      "%%%%%%%%%%%%%%%%%%%%%%%%\n",
      "%% Define Model Type. %%\n",
      "%%%%%%%%%%%%%%%%%%%%%%%%\n",
      " \n",
      "1) Standard VEGAS Mobility Model\n",
      "2) Iterative VEGAS Mobility Model\n",
      "3) Agent Based VEGAS Mobility Model\n",
      "Input model type: 1\n",
      " \n",
      "%%%%%%%%%%%%%%%%%%%%%%%%%%%%%%%%%%%%\n",
      "%%    Standard Mobility Model.    %%\n",
      "%%%%%%%%%%%%%%%%%%%%%%%%%%%%%%%%%%%%\n",
      " \n",
      " \n",
      "%%%%%%%%%%%%%%%%%%%%%%%%%%%%%\n",
      "%% Define Cost Surface(s). %%\n",
      "%%%%%%%%%%%%%%%%%%%%%%%%%%%%%\n",
      " \n",
      "Enter 1 to load a cost surface(s).\n",
      "Enter 2 for no cost surface (only use distance): 1\n",
      "How many raster cost surfaces: 1\n",
      "Input file path (ex: c:\\data\\e32n35.mat or c:\\data\\e32n35.txt): ../data/srtm_39_08.asc\n",
      "Type of Raster: \n",
      "1) Area Based Slope\n",
      "2) Linear Based Slope\n",
      "3) Other / General\n",
      "Input type of cost surface: 2\n",
      "Input weight in percent for this layer: 1\n",
      " \n",
      "How to assess slope cost?\n",
      "1) Hiking Function\n",
      "2) Splined Asymmetric: 1\n",
      " \n",
      "Type of travel:\n",
      "1) Passenger Car\n",
      "2) Heavy Off-Road Vehicle\n",
      "3) Pedestrian / Animal\n",
      "4) Custom define the parameters\n",
      "Type of slope parameters to use: 2\n",
      " \n",
      "%%%%%%%%%%%%%%%%%%%%%\n",
      "%% Define Network. %%\n",
      "%%%%%%%%%%%%%%%%%%%%%\n",
      " \n",
      "Enter 1 to load a network.\n",
      "Enter 2 to create a regular network: 2\n",
      " \n",
      "Input network size.\n",
      "For a scaled value, input a value greater than 0 and less than or equal to 1.\n",
      "Example: Input of .5 will create a network along the given dimension that is half the size of the largest raster.\n",
      "Example: Input of 1 will create a network along the given dimension that is as large as the largest raster.\n",
      "Example: Input of 200 will create a network of 200 nodes along the given dimension.\n",
      "Input network width: 200\n",
      "Input network height: 200\n",
      "Input network type (default is Queen):\n",
      "Enter 1 for Rook.\n",
      "Enter 2 for Queen.\n",
      "Enter 3 for Knight: 2\n",
      "How do you want to define the limits of the network?\n",
      "1) Custom\n",
      "2) Extent of raster(s)\n",
      "3) Extent of Start/End Points: 1\n",
      "Input min X: 11.0\n",
      "Input min Y: 22.0\n",
      "Input max X: 13.25\n",
      "Input max Y: 23.5\n",
      " \n",
      "%%%%%%%%%%%%%%%%%%%%%%%%%%%%%%%%%%%%\n",
      "%%Define Starting/ Ending Points. %%\n",
      "%%%%%%%%%%%%%%%%%%%%%%%%%%%%%%%%%%%%\n",
      " \n",
      "Define Start and End Points: \n",
      "1) Use network nodes\n",
      "2) Load points from a file\n",
      "3) Manually enter points: 3\n",
      " \n",
      "%% Manually enter points %%\n",
      "Number of start points: 1\n",
      "Please give a label for this point: 1\n",
      "Input start coordinate latitude: 22.75\n",
      "Input start coordinate longitude: 12.5\n",
      " \n",
      "Number of end points: 1\n",
      "Please give a label for this point: 1\n",
      "Input start coordinate latitude: 22.75\n",
      "Input start coordinate longitude: 11.75\n",
      " \n",
      "%%%%%%%%%%%%%%%%%%%%%%%%%%%%%%%%%%%%\n",
      "%% Define Monte Carlo Simulation. %%\n",
      "%%%%%%%%%%%%%%%%%%%%%%%%%%%%%%%%%%%%\n",
      " \n",
      "Maximum per cent of cost value perturbation: 10\n",
      "Number of simulations (for each Start Location): 10\n"
     ]
    }
   ],
   "source": [
    "options = su.mobilityModelParameters()"
   ]
  },
  {
   "cell_type": "code",
   "execution_count": 8,
   "metadata": {},
   "outputs": [
    {
     "data": {
      "text/plain": [
       "dict"
      ]
     },
     "execution_count": 8,
     "metadata": {},
     "output_type": "execute_result"
    }
   ],
   "source": [
    "type(options)"
   ]
  },
  {
   "cell_type": "code",
   "execution_count": 9,
   "metadata": {},
   "outputs": [
    {
     "data": {
      "text/plain": [
       "{'ModelType': 1,\n",
       " 'SngPathOpt': 0,\n",
       " 'CstOpt': 1,\n",
       " 'Costs': [{'Filename': '../data/srtm_39_08.asc', 'type': 2}],\n",
       " 'weights': [1.0],\n",
       " 'typeLinearSlopeTransform': 1,\n",
       " 'defaultSlopeValues': 2,\n",
       " 'NetOpt': 2,\n",
       " 'typeWidth': 200.0,\n",
       " 'typeHeight': 200.0,\n",
       " 'type': 2,\n",
       " 'GeoLim': 1,\n",
       " 'xlow': 11.0,\n",
       " 'ylow': 22.0,\n",
       " 'xhigh': 13.25,\n",
       " 'yhigh': 23.5,\n",
       " 'StEnPts': 3,\n",
       " 'StartPoints': {1: {'lat': 22.75, 'lon': 12.5}},\n",
       " 'EndPoints': {'1': {'lat': 22.75, 'lon': 11.75}},\n",
       " 'PrCnt': 0.1,\n",
       " 'NumRuns': 10.0}"
      ]
     },
     "execution_count": 9,
     "metadata": {},
     "output_type": "execute_result"
    }
   ],
   "source": [
    "options"
   ]
  },
  {
   "cell_type": "code",
   "execution_count": 14,
   "metadata": {},
   "outputs": [
    {
     "ename": "TypeError",
     "evalue": "a bytes-like object is required, not 'str'",
     "output_type": "error",
     "traceback": [
      "\u001b[0;31m---------------------------------------------------------------------------\u001b[0m",
      "\u001b[0;31mTypeError\u001b[0m                                 Traceback (most recent call last)",
      "\u001b[0;32m<ipython-input-14-6d5094a4723b>\u001b[0m in \u001b[0;36m<module>\u001b[0;34m\u001b[0m\n\u001b[0;32m----> 1\u001b[0;31m \u001b[0mio\u001b[0m\u001b[0;34m.\u001b[0m\u001b[0mwriteJSON\u001b[0m\u001b[0;34m(\u001b[0m\u001b[0moptions\u001b[0m\u001b[0;34m,\u001b[0m\u001b[0;34m'standard.json'\u001b[0m\u001b[0;34m)\u001b[0m\u001b[0;34m\u001b[0m\u001b[0;34m\u001b[0m\u001b[0m\n\u001b[0m",
      "\u001b[0;32m~/Documents/code/sabha/sabha/fileio.py\u001b[0m in \u001b[0;36mwriteJSON\u001b[0;34m(datalist, filePath)\u001b[0m\n\u001b[1;32m    100\u001b[0m     \"\"\"\n\u001b[1;32m    101\u001b[0m     \u001b[0;32mwith\u001b[0m \u001b[0mopen\u001b[0m\u001b[0;34m(\u001b[0m\u001b[0mfilePath\u001b[0m\u001b[0;34m,\u001b[0m \u001b[0;34m'wb'\u001b[0m\u001b[0;34m)\u001b[0m \u001b[0;32mas\u001b[0m \u001b[0mfp\u001b[0m\u001b[0;34m:\u001b[0m\u001b[0;34m\u001b[0m\u001b[0;34m\u001b[0m\u001b[0m\n\u001b[0;32m--> 102\u001b[0;31m         \u001b[0mjs\u001b[0m\u001b[0;34m.\u001b[0m\u001b[0mdump\u001b[0m\u001b[0;34m(\u001b[0m\u001b[0mdatalist\u001b[0m\u001b[0;34m,\u001b[0m \u001b[0mfp\u001b[0m\u001b[0;34m,\u001b[0m \u001b[0mindent\u001b[0m\u001b[0;34m=\u001b[0m\u001b[0;36m4\u001b[0m\u001b[0;34m)\u001b[0m\u001b[0;34m\u001b[0m\u001b[0;34m\u001b[0m\u001b[0m\n\u001b[0m\u001b[1;32m    103\u001b[0m \u001b[0;34m\u001b[0m\u001b[0m\n\u001b[1;32m    104\u001b[0m \u001b[0;32mdef\u001b[0m \u001b[0mreadJSON\u001b[0m\u001b[0;34m(\u001b[0m\u001b[0mfilePath\u001b[0m\u001b[0;34m)\u001b[0m\u001b[0;34m:\u001b[0m\u001b[0;34m\u001b[0m\u001b[0;34m\u001b[0m\u001b[0m\n",
      "\u001b[0;32m/opt/anaconda3/envs/sabha/lib/python3.7/json/__init__.py\u001b[0m in \u001b[0;36mdump\u001b[0;34m(obj, fp, skipkeys, ensure_ascii, check_circular, allow_nan, cls, indent, separators, default, sort_keys, **kw)\u001b[0m\n\u001b[1;32m    178\u001b[0m     \u001b[0;31m# a debuggability cost\u001b[0m\u001b[0;34m\u001b[0m\u001b[0;34m\u001b[0m\u001b[0;34m\u001b[0m\u001b[0m\n\u001b[1;32m    179\u001b[0m     \u001b[0;32mfor\u001b[0m \u001b[0mchunk\u001b[0m \u001b[0;32min\u001b[0m \u001b[0miterable\u001b[0m\u001b[0;34m:\u001b[0m\u001b[0;34m\u001b[0m\u001b[0;34m\u001b[0m\u001b[0m\n\u001b[0;32m--> 180\u001b[0;31m         \u001b[0mfp\u001b[0m\u001b[0;34m.\u001b[0m\u001b[0mwrite\u001b[0m\u001b[0;34m(\u001b[0m\u001b[0mchunk\u001b[0m\u001b[0;34m)\u001b[0m\u001b[0;34m\u001b[0m\u001b[0;34m\u001b[0m\u001b[0m\n\u001b[0m\u001b[1;32m    181\u001b[0m \u001b[0;34m\u001b[0m\u001b[0m\n\u001b[1;32m    182\u001b[0m \u001b[0;34m\u001b[0m\u001b[0m\n",
      "\u001b[0;31mTypeError\u001b[0m: a bytes-like object is required, not 'str'"
     ]
    }
   ],
   "source": [
    "io.writeJSON(options,'standard.json')"
   ]
  },
  {
   "cell_type": "code",
   "execution_count": 15,
   "metadata": {},
   "outputs": [
    {
     "data": {
      "text/plain": [
       "{'ModelType': 1,\n",
       " 'SngPathOpt': 0,\n",
       " 'CstOpt': 1,\n",
       " 'Costs': [{'Filename': '../data/srtm_39_08.asc', 'type': 2}],\n",
       " 'weights': [1.0],\n",
       " 'typeLinearSlopeTransform': 1,\n",
       " 'defaultSlopeValues': 2,\n",
       " 'NetOpt': 2,\n",
       " 'typeWidth': 200.0,\n",
       " 'typeHeight': 200.0,\n",
       " 'type': 2,\n",
       " 'GeoLim': 1,\n",
       " 'xlow': 11.0,\n",
       " 'ylow': 22.0,\n",
       " 'xhigh': 13.25,\n",
       " 'yhigh': 23.5,\n",
       " 'StEnPts': 3,\n",
       " 'StartPoints': {1: {'lat': 22.75, 'lon': 12.5}},\n",
       " 'EndPoints': {'1': {'lat': 22.75, 'lon': 11.75}},\n",
       " 'PrCnt': 0.1,\n",
       " 'NumRuns': 10.0}"
      ]
     },
     "execution_count": 15,
     "metadata": {},
     "output_type": "execute_result"
    }
   ],
   "source": [
    "options"
   ]
  },
  {
   "cell_type": "code",
   "execution_count": 16,
   "metadata": {},
   "outputs": [],
   "source": [
    "import json\n"
   ]
  },
  {
   "cell_type": "code",
   "execution_count": 17,
   "metadata": {},
   "outputs": [],
   "source": [
    "def write_json(data_dict,file_path):\n",
    "    with open(file_path, 'w') as fp:\n",
    "        json.dump(data_dict, fp, indent=4)"
   ]
  },
  {
   "cell_type": "code",
   "execution_count": 18,
   "metadata": {},
   "outputs": [],
   "source": [
    "write_json(options,'standard.json')"
   ]
  },
  {
   "cell_type": "code",
   "execution_count": 19,
   "metadata": {},
   "outputs": [
    {
     "data": {
      "text/plain": [
       "{'ModelType': 1,\n",
       " 'SngPathOpt': 0,\n",
       " 'CstOpt': 1,\n",
       " 'Costs': [{'Filename': '../data/srtm_39_08.asc', 'type': 2}],\n",
       " 'weights': [1.0],\n",
       " 'typeLinearSlopeTransform': 1,\n",
       " 'defaultSlopeValues': 2,\n",
       " 'NetOpt': 2,\n",
       " 'typeWidth': 200.0,\n",
       " 'typeHeight': 200.0,\n",
       " 'type': 2,\n",
       " 'GeoLim': 1,\n",
       " 'xlow': 11.0,\n",
       " 'ylow': 22.0,\n",
       " 'xhigh': 13.25,\n",
       " 'yhigh': 23.5,\n",
       " 'StEnPts': 3,\n",
       " 'StartPoints': {1: {'lat': 22.75, 'lon': 12.5}},\n",
       " 'EndPoints': {'1': {'lat': 22.75, 'lon': 11.75}},\n",
       " 'PrCnt': 0.1,\n",
       " 'NumRuns': 10.0}"
      ]
     },
     "execution_count": 19,
     "metadata": {},
     "output_type": "execute_result"
    }
   ],
   "source": [
    "options"
   ]
  },
  {
   "cell_type": "code",
   "execution_count": null,
   "metadata": {},
   "outputs": [],
   "source": []
  }
 ],
 "metadata": {
  "kernelspec": {
   "display_name": "Python 3",
   "language": "python",
   "name": "python3"
  },
  "language_info": {
   "codemirror_mode": {
    "name": "ipython",
    "version": 3
   },
   "file_extension": ".py",
   "mimetype": "text/x-python",
   "name": "python",
   "nbconvert_exporter": "python",
   "pygments_lexer": "ipython3",
   "version": "3.7.7"
  }
 },
 "nbformat": 4,
 "nbformat_minor": 4
}
