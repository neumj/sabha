{
 "cells": [
  {
   "cell_type": "code",
   "execution_count": 4,
   "metadata": {},
   "outputs": [],
   "source": [
    "from sabha import setup as su\n",
    "import importlib"
   ]
  },
  {
   "cell_type": "code",
   "execution_count": 7,
   "metadata": {},
   "outputs": [
    {
     "data": {
      "text/plain": [
       "<module 'sabha.setup' from '/Users/mjn/Documents/code/sabha/sabha/setup.py'>"
      ]
     },
     "execution_count": 7,
     "metadata": {},
     "output_type": "execute_result"
    }
   ],
   "source": [
    "importlib.reload(su)"
   ]
  },
  {
   "cell_type": "code",
   "execution_count": 8,
   "metadata": {},
   "outputs": [
    {
     "name": "stdout",
     "output_type": "stream",
     "text": [
      " \n",
      "%%%%%%%%%%%%%%%%%%%%%%%%%%%\n",
      "%%    Mobility Model.    %%\n",
      "%%%%%%%%%%%%%%%%%%%%%%%%%%%\n",
      " \n",
      " \n",
      "%%%%%%%%%%%%%%%%%%%%%%%%\n",
      "%% Define Model Type. %%\n",
      "%%%%%%%%%%%%%%%%%%%%%%%%\n",
      " \n",
      "1) Standard VEGAS Mobility Model\n",
      "2) Iterative VEGAS Mobility Model\n",
      "3) Agent Based VEGAS Mobility Model\n",
      "Input model type: 1\n",
      " \n",
      "%%%%%%%%%%%%%%%%%%%%%%%%%%%%%%%%%%%%\n",
      "%%    Standard Mobility Model.    %%\n",
      "%%%%%%%%%%%%%%%%%%%%%%%%%%%%%%%%%%%%\n",
      " \n",
      " \n",
      "%%%%%%%%%%%%%%%%%%%%%%%%%%%%%\n",
      "%% Define Cost Surface(s). %%\n",
      "%%%%%%%%%%%%%%%%%%%%%%%%%%%%%\n",
      " \n",
      "Enter 1 to load a cost surface(s).\n",
      "Enter 2 for no cost surface (only use distance): 1\n",
      "How many raster cost surfaces: 1\n",
      "Input file path (ex: c:\\data\\e32n35.mat or c:\\data\\e32n35.txt): \\data\\grid.txt\n",
      "Type of Raster: \n",
      "1) Area Based Slope\n",
      "2) Linear Based Slope\n",
      "3) Other / General\n",
      "Input type of cost surface: 2\n",
      "Input weight in percent for this layer: 1\n",
      " \n",
      "How to assess slope cost?\n",
      "1) Hiking Function\n",
      "2) Splined Asymmetric: 1\n",
      " \n",
      "Type of travel:\n",
      "1) Passenger Car\n",
      "2) Heavy Off-Road Vehicle\n",
      "3) Pedestrian / Animal\n",
      "4) Custom define the parameters\n",
      "Type of slope parameters to use: 1\n",
      " \n",
      "%%%%%%%%%%%%%%%%%%%%%\n",
      "%% Define Network. %%\n",
      "%%%%%%%%%%%%%%%%%%%%%\n",
      " \n",
      "Enter 1 to load a network.\n",
      "Enter 2 to create a regular network: 2\n",
      " \n",
      "Input network size.\n",
      "For a scaled value, input a value greater than 0 and less than or equal to 1.\n",
      "Example: Input of .5 will create a network along the given dimension that is half the size of the largest raster.\n",
      "Example: Input of 1 will create a network along the given dimension that is as large as the largest raster.\n",
      "Example: Input of 200 will create a network of 200 nodes along the given dimension.\n",
      "Input network width: 0.5\n",
      "Input network height: 0.5\n",
      "Input network type (default is Queen):\n",
      "Enter 1 for Rook.\n",
      "Enter 2 for Queen.\n",
      "Enter 3 for Knight: 2\n",
      "How do you want to define the limits of the network?\n",
      "1) Custom\n",
      "2) Extent of raster(s)\n",
      "3) Extent of Start/End Points: 2\n",
      " \n",
      "%%%%%%%%%%%%%%%%%%%%%%%%%%%%%%%%%%%%\n",
      "%%Define Starting/ Ending Points. %%\n",
      "%%%%%%%%%%%%%%%%%%%%%%%%%%%%%%%%%%%%\n",
      " \n",
      "Define Start and End Points: \n",
      "1) Use network nodes\n",
      "2) Load points from a file\n",
      "3) Manually enter points: 1\n",
      " \n",
      "%% Use network nodes %%\n",
      "What direction should the agent travel?\n",
      "1) North to South\n",
      "2) South to North\n",
      "3) East to West\n",
      "4) West to East: 4\n",
      " \n",
      "%%%%%%%%%%%%%%%%%%%%%%%%%%%%%%%%%%%%\n",
      "%% Define Monte Carlo Simulation. %%\n",
      "%%%%%%%%%%%%%%%%%%%%%%%%%%%%%%%%%%%%\n",
      " \n",
      "Maximum per cent of cost value perturbation: 10\n",
      "Number of simulations (for each Start Location): 10\n"
     ]
    }
   ],
   "source": [
    "options = su.mobilityModelParameters()"
   ]
  },
  {
   "cell_type": "code",
   "execution_count": 9,
   "metadata": {},
   "outputs": [
    {
     "data": {
      "text/plain": [
       "dict"
      ]
     },
     "execution_count": 9,
     "metadata": {},
     "output_type": "execute_result"
    }
   ],
   "source": [
    "type(options)"
   ]
  },
  {
   "cell_type": "code",
   "execution_count": 10,
   "metadata": {},
   "outputs": [
    {
     "data": {
      "text/plain": [
       "{'ModelType': 1,\n",
       " 'SngPathOpt': 0,\n",
       " 'CstOpt': 1,\n",
       " 'Costs': [{'Filename': '\\\\data\\\\grid.txt', 'type': 2}],\n",
       " 'weights': [1.0],\n",
       " 'typeLinearSlopeTransform': 1,\n",
       " 'defaultSlopeValues': 1,\n",
       " 'NetOpt': 2,\n",
       " 'typeWidth': 0.5,\n",
       " 'typeHeight': 0.5,\n",
       " 'type': 2,\n",
       " 'GeoLim': 2,\n",
       " 'StEnPts': 1,\n",
       " 'Direction': 4,\n",
       " 'PrCnt': 0.1,\n",
       " 'NumRuns': 10.0}"
      ]
     },
     "execution_count": 10,
     "metadata": {},
     "output_type": "execute_result"
    }
   ],
   "source": [
    "options"
   ]
  },
  {
   "cell_type": "code",
   "execution_count": null,
   "metadata": {},
   "outputs": [],
   "source": []
  }
 ],
 "metadata": {
  "kernelspec": {
   "display_name": "Python 3",
   "language": "python",
   "name": "python3"
  },
  "language_info": {
   "codemirror_mode": {
    "name": "ipython",
    "version": 3
   },
   "file_extension": ".py",
   "mimetype": "text/x-python",
   "name": "python",
   "nbconvert_exporter": "python",
   "pygments_lexer": "ipython3",
   "version": "3.7.7"
  }
 },
 "nbformat": 4,
 "nbformat_minor": 4
}
